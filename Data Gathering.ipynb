{
 "cells": [
  {
   "cell_type": "markdown",
   "id": "78977df0",
   "metadata": {},
   "source": [
    "# Data Gathering\n",
    "\n",
    " Here with the help of BeautifulSoup i'll be gathering the British Airways reviews data needed for this project from this website \n",
    "[Skytrax](https://www.airlinequality.com/airline-reviews/british-airways/?sortby=post_date%3ADesc&pagesize=1000).\n"
   ]
  },
  {
   "cell_type": "code",
   "execution_count": 1,
   "id": "ad24a3b3",
   "metadata": {},
   "outputs": [],
   "source": [
    "import re\n",
    "import requests\n",
    "import csv\n",
    "import pandas as pd\n",
    "\n",
    "\n",
    "from bs4 import BeautifulSoup"
   ]
  },
  {
   "cell_type": "code",
   "execution_count": 2,
   "id": "77f21661",
   "metadata": {},
   "outputs": [],
   "source": [
    "url = 'https://www.airlinequality.com/airline-reviews/british-airways/?sortby=post_date%3ADesc&pagesize=3500'"
   ]
  },
  {
   "cell_type": "code",
   "execution_count": 3,
   "id": "aa3c5505",
   "metadata": {},
   "outputs": [],
   "source": [
    "response = requests.get(url)\n",
    "content = response.content"
   ]
  },
  {
   "cell_type": "code",
   "execution_count": 4,
   "id": "763e0107",
   "metadata": {},
   "outputs": [],
   "source": [
    "soup = BeautifulSoup(content, 'lxml')\n",
    "#find all the reviews in the article page\n",
    "article_cards = soup.find_all('article', itemprop='review')\n",
    "\n",
    "#create a csv file that writes all the review data\n",
    "with open('BA_Review_data.csv', 'w', newline='', encoding='utf-8') as csvfile:\n",
    "    fieldnames = ['rating_over_10', 'review_author', 'review_date', 'author_country', 'review_title', \n",
    "                  'reviewer_verification_status', 'reviewer_text']\n",
    "    \n",
    "       \n",
    "#create a csv writer object\n",
    "    writer = csv.DictWriter(csvfile, fieldnames=fieldnames)\n",
    "\n",
    "# Write the headers to the CSV file\n",
    "    writer.writeheader()\n",
    "\n",
    "    for article in article_cards:\n",
    "    #get all our data\n",
    "        rating_over_10 = article.div.text\n",
    "        review_title = article.h2.text\n",
    "        review_date = article.time.text\n",
    "        review_author = article.find('span', {'itemprop': 'name'}).text\n",
    "        country = article.h3.text\n",
    "        reviewer_verification_status = article.a.text\n",
    "        reviewer_text = article.find('div', {'class': 'text_content'}).text\n",
    "       \n",
    "    \n",
    "    #remove unwanted text in country column\n",
    "        new_country = country\n",
    "        country_pattern = r'\\((.*?)\\)'  # pattern to match text inside parentheses\n",
    "        country_match = re.search(country_pattern, new_country)\n",
    "        if country_match:\n",
    "            author_country = country_match.group(1)\n",
    "        \n",
    "        \n",
    "        #write review data in csv file\n",
    "        writer.writerow({'rating_over_10':rating_over_10, 'review_author':review_author,\n",
    "                         'review_date':review_date, 'review_title':review_title, 'author_country':author_country,\n",
    "                         'reviewer_verification_status':reviewer_verification_status,\n",
    "                         'reviewer_text':reviewer_text})\n",
    "        \n",
    "    \n",
    "   \n"
   ]
  }
 ],
 "metadata": {
  "kernelspec": {
   "display_name": "Python 3 (ipykernel)",
   "language": "python",
   "name": "python3"
  },
  "language_info": {
   "codemirror_mode": {
    "name": "ipython",
    "version": 3
   },
   "file_extension": ".py",
   "mimetype": "text/x-python",
   "name": "python",
   "nbconvert_exporter": "python",
   "pygments_lexer": "ipython3",
   "version": "3.9.12"
  }
 },
 "nbformat": 4,
 "nbformat_minor": 5
}
